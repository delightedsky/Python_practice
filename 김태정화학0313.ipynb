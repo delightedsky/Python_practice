{
  "nbformat": 4,
  "nbformat_minor": 0,
  "metadata": {
    "colab": {
      "provenance": [],
      "authorship_tag": "ABX9TyMdljRP8EfW5TTBdVygVniY"
    },
    "kernelspec": {
      "name": "python3",
      "display_name": "Python 3"
    },
    "language_info": {
      "name": "python"
    }
  },
  "cells": [
    {
      "cell_type": "markdown",
      "source": [
        "자료형(Data type)"
      ],
      "metadata": {
        "id": "0P3N4Wj2V6hT"
      }
    },
    {
      "cell_type": "code",
      "execution_count": null,
      "metadata": {
        "colab": {
          "base_uri": "https://localhost:8080/"
        },
        "id": "Gmlx04K3Umiy",
        "outputId": "59512996-eadd-49d9-e600-c441eaa8d354"
      },
      "outputs": [
        {
          "output_type": "stream",
          "name": "stdout",
          "text": [
            "KimTaeJeong\n"
          ]
        }
      ],
      "source": [
        "print('KimTaeJeong') #문자열에서는 따옴표 중요"
      ]
    },
    {
      "cell_type": "code",
      "source": [
        "num1=5\n",
        "num2=7\n",
        "print(id(num1))\n",
        "print(id(num2))"
      ],
      "metadata": {
        "colab": {
          "base_uri": "https://localhost:8080/"
        },
        "id": "LrkLBCU7XmsU",
        "outputId": "8c22d467-c602-4a4f-b9be-5c7960ca32b0"
      },
      "execution_count": null,
      "outputs": [
        {
          "output_type": "stream",
          "name": "stdout",
          "text": [
            "140717468117424\n",
            "140717468117488\n"
          ]
        }
      ]
    },
    {
      "cell_type": "code",
      "source": [
        "num1=5 #_는 변수명 앞 뒤 중간에 모두 쓸 수 있다. 숫자는 맨 앞에 쓸 수 없다. 대소문자 구분. 예약어는 사용 불가능.\n",
        "num2=7\n",
        "hap=num1+num2\n",
        "print(hap)"
      ],
      "metadata": {
        "colab": {
          "base_uri": "https://localhost:8080/"
        },
        "id": "iA_Jm3E2Y3HU",
        "outputId": "95c2a24f-2064-4f62-bad4-466d94713c63"
      },
      "execution_count": null,
      "outputs": [
        {
          "output_type": "stream",
          "name": "stdout",
          "text": [
            "12\n"
          ]
        }
      ]
    },
    {
      "cell_type": "code",
      "source": [
        "print(0b11)\n",
        "print(0b111)\n",
        "print(0b1111111)"
      ],
      "metadata": {
        "colab": {
          "base_uri": "https://localhost:8080/"
        },
        "id": "vXKV5alFa9a0",
        "outputId": "bb239d1c-c506-4e8c-b97f-2cc1182e285a"
      },
      "execution_count": null,
      "outputs": [
        {
          "output_type": "stream",
          "name": "stdout",
          "text": [
            "3\n",
            "7\n",
            "127\n"
          ]
        }
      ]
    },
    {
      "cell_type": "code",
      "source": [
        "name='KimTaeJeong'\n",
        "num1=5\n",
        "num2=7.0\n",
        "print(type(name))\n",
        "print(type(num1))\n",
        "print(type(num2))\n",
        "print(type(True))"
      ],
      "metadata": {
        "colab": {
          "base_uri": "https://localhost:8080/"
        },
        "id": "VmVBm2bSfALu",
        "outputId": "0364d59f-1f31-4315-a529-7dcd87073d2d"
      },
      "execution_count": null,
      "outputs": [
        {
          "output_type": "stream",
          "name": "stdout",
          "text": [
            "<class 'str'>\n",
            "<class 'int'>\n",
            "<class 'float'>\n",
            "<class 'bool'>\n"
          ]
        }
      ]
    },
    {
      "cell_type": "code",
      "source": [
        "num1=5\n",
        "num2=2.0\n",
        "num3=15\n",
        "num4=3\n",
        "print(num2**num4) # 2.0에 거듭제곱 3번 결과는 8.0\n",
        "print(num3/num4) # /은 결과값이 실수형float\n",
        "print(num3//num4) # //은 몫 연산자\n",
        "print(num3%num2) # 15를 2.0으로 나눈 나머지.\n",
        "print(num3%2) # 한개라도 실수형이라면 결과값도 실수형"
      ],
      "metadata": {
        "colab": {
          "base_uri": "https://localhost:8080/"
        },
        "id": "VYrt7gQJgL0-",
        "outputId": "d3a1fe69-46f8-4254-b544-512e9b4650a0"
      },
      "execution_count": null,
      "outputs": [
        {
          "output_type": "stream",
          "name": "stdout",
          "text": [
            "8.0\n",
            "5.0\n",
            "5\n",
            "1.0\n",
            "1\n"
          ]
        }
      ]
    },
    {
      "cell_type": "code",
      "source": [
        "#복합 대입연산자\n",
        "num1=5\n",
        "num2=2.0\n",
        "num3=15\n",
        "num4=3\n",
        "num1 += 3 # num1에 3을 더해서 넣는다\n",
        "print(num1)\n",
        "num3 -= num4 # 15-3\n",
        "num3 //= num4 # 12//3\n",
        "num3 **= num2 # 4**2.0\n",
        "print(num3)"
      ],
      "metadata": {
        "colab": {
          "base_uri": "https://localhost:8080/"
        },
        "id": "QXbvwNLBhVqW",
        "outputId": "af147dff-84e8-4a35-fa50-be61827b691a"
      },
      "execution_count": null,
      "outputs": [
        {
          "output_type": "stream",
          "name": "stdout",
          "text": [
            "8\n",
            "16.0\n"
          ]
        }
      ]
    },
    {
      "cell_type": "code",
      "source": [
        "#자료형 변환\n",
        "num1=5\n",
        "num2=2.0\n",
        "num6=\"3.0\" # str\n",
        "num7=str(num1) # 숫자 5를 문자형으로 변환\n",
        "print(num7)\n",
        "print(type(num7))"
      ],
      "metadata": {
        "colab": {
          "base_uri": "https://localhost:8080/"
        },
        "id": "EMbgH8LoiZIe",
        "outputId": "8b68722d-4eae-47c8-a834-d598fa216cf8"
      },
      "execution_count": null,
      "outputs": [
        {
          "output_type": "stream",
          "name": "stdout",
          "text": [
            "5\n",
            "<class 'str'>\n"
          ]
        }
      ]
    },
    {
      "cell_type": "code",
      "source": [
        "num2=2.0\n",
        "num6=\"3.0\"\n",
        "print(int(num2))\n",
        "print(int(num6)) # 문자형 3.0은 실수 변환을 먼저 해야한다."
      ],
      "metadata": {
        "colab": {
          "base_uri": "https://localhost:8080/",
          "height": 227
        },
        "id": "WrYN7rR3jG7e",
        "outputId": "de86b1b9-3365-4058-9cc1-cdaa421c2ba8"
      },
      "execution_count": null,
      "outputs": [
        {
          "output_type": "stream",
          "name": "stdout",
          "text": [
            "2\n"
          ]
        },
        {
          "output_type": "error",
          "ename": "ValueError",
          "evalue": "ignored",
          "traceback": [
            "\u001b[0;31m---------------------------------------------------------------------------\u001b[0m",
            "\u001b[0;31mValueError\u001b[0m                                Traceback (most recent call last)",
            "\u001b[0;32m<ipython-input-5-d9cd5e7fce20>\u001b[0m in \u001b[0;36m<cell line: 4>\u001b[0;34m()\u001b[0m\n\u001b[1;32m      2\u001b[0m \u001b[0mnum6\u001b[0m\u001b[0;34m=\u001b[0m\u001b[0;34m\"3.0\"\u001b[0m\u001b[0;34m\u001b[0m\u001b[0;34m\u001b[0m\u001b[0m\n\u001b[1;32m      3\u001b[0m \u001b[0mprint\u001b[0m\u001b[0;34m(\u001b[0m\u001b[0mint\u001b[0m\u001b[0;34m(\u001b[0m\u001b[0mnum2\u001b[0m\u001b[0;34m)\u001b[0m\u001b[0;34m)\u001b[0m\u001b[0;34m\u001b[0m\u001b[0;34m\u001b[0m\u001b[0m\n\u001b[0;32m----> 4\u001b[0;31m \u001b[0mprint\u001b[0m\u001b[0;34m(\u001b[0m\u001b[0mint\u001b[0m\u001b[0;34m(\u001b[0m\u001b[0mnum6\u001b[0m\u001b[0;34m)\u001b[0m\u001b[0;34m)\u001b[0m \u001b[0;31m# 문자형 3.0은 실수 변환을 먼저 해야한다.\u001b[0m\u001b[0;34m\u001b[0m\u001b[0;34m\u001b[0m\u001b[0m\n\u001b[0m",
            "\u001b[0;31mValueError\u001b[0m: invalid literal for int() with base 10: '3.0'"
          ]
        }
      ]
    },
    {
      "cell_type": "code",
      "source": [
        "num6=\"3.0\"\n",
        "num8=float(num6) # 3.0 float\n",
        "num9=int(num8)\n",
        "print(num9)"
      ],
      "metadata": {
        "colab": {
          "base_uri": "https://localhost:8080/"
        },
        "id": "sZq72OsmjeE3",
        "outputId": "aeefaeb6-1c73-4c4e-b084-77da476a0cd4"
      },
      "execution_count": null,
      "outputs": [
        {
          "output_type": "stream",
          "name": "stdout",
          "text": [
            "3\n"
          ]
        }
      ]
    },
    {
      "cell_type": "code",
      "source": [
        "#화씨 온도 변환기\n",
        "supsi = float(input(\"섭씨온도 : \"))\n",
        "whasi = (supsi * 1.8) + 32\n",
        "print(\"화씨온도 :\", whasi)"
      ],
      "metadata": {
        "colab": {
          "base_uri": "https://localhost:8080/"
        },
        "id": "K3_FPB8-m5aY",
        "outputId": "ee3858ac-6ab8-4706-b062-c7269896b039"
      },
      "execution_count": null,
      "outputs": [
        {
          "output_type": "stream",
          "name": "stdout",
          "text": [
            "섭씨온도 : 20\n",
            "화씨온도 : 68.0\n"
          ]
        }
      ]
    },
    {
      "cell_type": "code",
      "source": [
        "#화씨 온도 변환기 정답\n",
        "print('섭씨온도를 입력하세요.')\n",
        "supsi = input()\n",
        "whasi = ( float(supsi) * 1.8 ) + 32\n",
        "print('섭씨온도 :', supsi)\n",
        "print('화씨온도 :', whasi)"
      ],
      "metadata": {
        "colab": {
          "base_uri": "https://localhost:8080/"
        },
        "id": "5mRcXcCcqSfw",
        "outputId": "9fe90126-dcb5-4cbc-cb71-b70a48bf5fcf"
      },
      "execution_count": null,
      "outputs": [
        {
          "output_type": "stream",
          "name": "stdout",
          "text": [
            "섭씨온도를 입력하세요.\n",
            "20\n",
            "섭씨온도 : 20\n",
            "화씨온도 : 68.0\n"
          ]
        }
      ]
    },
    {
      "cell_type": "code",
      "source": [
        "colors = ['red', 'blue', 'green']\n",
        "print(colors[0])\n",
        "print(colors[1])\n",
        "print(colors[2])\n",
        "print(colors[-1])\n",
        "print(len(colors))"
      ],
      "metadata": {
        "colab": {
          "base_uri": "https://localhost:8080/"
        },
        "id": "6DnCGXcos8kp",
        "outputId": "691dedff-2747-46e4-9833-ea65d8979d8f"
      },
      "execution_count": null,
      "outputs": [
        {
          "output_type": "stream",
          "name": "stdout",
          "text": [
            "red\n",
            "blue\n",
            "green\n",
            "green\n",
            "3\n"
          ]
        }
      ]
    },
    {
      "cell_type": "code",
      "source": [
        "#리스트\n",
        "color1 = ['red', 'blue', 'green']\n",
        "color2 = ['orange', 'black', 'white']\n",
        "print(color1+color2)\n",
        "print(len(color1))\n",
        "total_color = color1 + color2\n",
        "print(total_color[2:5])\n",
        "print(total_color[::-2])\n",
        "print(color1 * 2)\n",
        "print('blue' not in color2)\n",
        "\n",
        "#리스트 추가 및 삭제\n",
        "color1.append('white')\n",
        "print(color1)\n",
        "color2.extend(['pink','gray'])\n",
        "print(color2)\n",
        "color1.insert(0,'yellow')\n",
        "color2.remove('orange')\n",
        "print(color1)\n",
        "print(color2)\n",
        "clear color1\n",
        "#print(color1)"
      ],
      "metadata": {
        "colab": {
          "base_uri": "https://localhost:8080/",
          "height": 390
        },
        "id": "dQ6D0hpzwD3i",
        "outputId": "cb57d721-4b97-49b3-c0fa-a712de4fb5f6"
      },
      "execution_count": null,
      "outputs": [
        {
          "output_type": "stream",
          "name": "stdout",
          "text": [
            "['red', 'blue', 'green', 'orange', 'black', 'white']\n",
            "3\n",
            "['green', 'orange', 'black']\n",
            "['white', 'orange', 'blue']\n",
            "['red', 'blue', 'green', 'red', 'blue', 'green']\n",
            "True\n",
            "['red', 'blue', 'green', 'white']\n",
            "['orange', 'black', 'white', 'pink', 'gray']\n",
            "['yellow', 'red', 'blue', 'green', 'white']\n",
            "['black', 'white', 'pink', 'gray']\n"
          ]
        },
        {
          "output_type": "error",
          "ename": "NameError",
          "evalue": "ignored",
          "traceback": [
            "\u001b[0;31m---------------------------------------------------------------------------\u001b[0m",
            "\u001b[0;31mNameError\u001b[0m                                 Traceback (most recent call last)",
            "\u001b[0;32m<ipython-input-14-e35508a84d7b>\u001b[0m in \u001b[0;36m<cell line: 22>\u001b[0;34m()\u001b[0m\n\u001b[1;32m     20\u001b[0m \u001b[0mprint\u001b[0m\u001b[0;34m(\u001b[0m\u001b[0mcolor2\u001b[0m\u001b[0;34m)\u001b[0m\u001b[0;34m\u001b[0m\u001b[0;34m\u001b[0m\u001b[0m\n\u001b[1;32m     21\u001b[0m \u001b[0;32mdel\u001b[0m \u001b[0mcolor1\u001b[0m\u001b[0;34m\u001b[0m\u001b[0;34m\u001b[0m\u001b[0m\n\u001b[0;32m---> 22\u001b[0;31m \u001b[0mprint\u001b[0m\u001b[0;34m(\u001b[0m\u001b[0mcolor1\u001b[0m\u001b[0;34m)\u001b[0m\u001b[0;34m\u001b[0m\u001b[0;34m\u001b[0m\u001b[0m\n\u001b[0m",
            "\u001b[0;31mNameError\u001b[0m: name 'color1' is not defined"
          ]
        }
      ]
    },
    {
      "cell_type": "code",
      "source": [
        " #패킹 언패킹\n",
        " t=[1,2,3]\n",
        " a, b, c = t\n",
        " print(t,a,b,c)"
      ],
      "metadata": {
        "colab": {
          "base_uri": "https://localhost:8080/"
        },
        "id": "xTZrpZ6VzPik",
        "outputId": "798f1df7-356e-430e-8005-e27f35fe60c4"
      },
      "execution_count": null,
      "outputs": [
        {
          "output_type": "stream",
          "name": "stdout",
          "text": [
            "[1, 2, 3] 1 2 3\n"
          ]
        }
      ]
    },
    {
      "cell_type": "code",
      "source": [
        "#이차원 리스트\n",
        "kor_score=[49,79,20,100,80]\n",
        "math_score=[43,59,85,30,90]\n",
        "eng_score=[49,79,48,60,100]\n",
        "midterm_score = [kor_score, math_score, eng_score]\n",
        "print(midterm_score[0][2])"
      ],
      "metadata": {
        "colab": {
          "base_uri": "https://localhost:8080/"
        },
        "id": "Epp1Osjs1Ux0",
        "outputId": "41e9760d-4f13-4691-9baa-72d7cef5b134"
      },
      "execution_count": null,
      "outputs": [
        {
          "output_type": "stream",
          "name": "stdout",
          "text": [
            "20\n"
          ]
        }
      ]
    },
    {
      "cell_type": "code",
      "source": [
        "나 = 'TJmedia'\n",
        "TJ = 'TJmedia'\n",
        "tj = 'tjmedia'\n",
        "print(나)\n",
        "print(TJ)\n",
        "print(tj)"
      ],
      "metadata": {
        "colab": {
          "base_uri": "https://localhost:8080/"
        },
        "id": "RImN-lMat60c",
        "outputId": "b14f9093-95f6-4417-f9e9-2b310d9a8f80"
      },
      "execution_count": null,
      "outputs": [
        {
          "output_type": "stream",
          "name": "stdout",
          "text": [
            "TJmedia\n",
            "TJmedia\n",
            "tjmedia\n"
          ]
        }
      ]
    },
    {
      "cell_type": "code",
      "source": [
        "a = '3'\n",
        "b = '2.1'\n",
        "print(int(a)*b)"
      ],
      "metadata": {
        "colab": {
          "base_uri": "https://localhost:8080/"
        },
        "id": "UuT58reAw8gW",
        "outputId": "afb03e05-43ed-4a81-9221-e17611a47bcb"
      },
      "execution_count": null,
      "outputs": [
        {
          "output_type": "stream",
          "name": "stdout",
          "text": [
            "2.12.12.1\n"
          ]
        }
      ]
    },
    {
      "cell_type": "code",
      "source": [
        "a = 10\n",
        "b = 30\n",
        "c = 10.5\n",
        "print(str(a*b) + str(c))"
      ],
      "metadata": {
        "colab": {
          "base_uri": "https://localhost:8080/"
        },
        "id": "kSHp89Uixxko",
        "outputId": "e55a57d2-dc37-4266-84fa-628f341752aa"
      },
      "execution_count": null,
      "outputs": [
        {
          "output_type": "stream",
          "name": "stdout",
          "text": [
            "30010.5\n"
          ]
        }
      ]
    },
    {
      "cell_type": "code",
      "source": [
        "for i in range(7,-1,-1):\n",
        "    print(i)"
      ],
      "metadata": {
        "colab": {
          "base_uri": "https://localhost:8080/"
        },
        "id": "AhsSEXyUjeRo",
        "outputId": "55858991-3075-4e5d-99a3-c8a66c0502a1"
      },
      "execution_count": null,
      "outputs": [
        {
          "output_type": "stream",
          "name": "stdout",
          "text": [
            "7\n",
            "6\n",
            "5\n",
            "4\n",
            "3\n",
            "2\n",
            "1\n",
            "0\n"
          ]
        }
      ]
    },
    {
      "cell_type": "code",
      "source": [
        "a = [33.2, 19.7, 28, 21, 33, 6, 12, 15.5, 4.5, 29.2, 11.5, 15.5, 18.3, 15, 6, 6, 26.2, 19.5, 33, 13, 32.5, 14, 22.5, 9, 17, 50.7, 38.3, 4, 34, 22, 40, 38.6, 4.5, 47, 11.5, 24, 6, 35.5, 18, 12.2, 18.2, 31.5, 26.7, 34.5, 24.7, 9, 0, 24.9, 12, 9.5, 30.2, 28.5, 25.5, 15.2, 53.5, 28.5, 16.7, 13, 25.7, 30.5, 26.2, 25, 33.5]\n",
        "a.sort()\n",
        "print(a[30])\n",
        "sum1 = 0\n",
        "for i in a:\n",
        "    sum1 += i\n",
        "print(len(a))\n",
        "print(sum1/len(a))"
      ],
      "metadata": {
        "id": "l0DnlcrUAvWj",
        "colab": {
          "base_uri": "https://localhost:8080/"
        },
        "outputId": "280f6080-293e-431a-a491-c7cec53b0612"
      },
      "execution_count": null,
      "outputs": [
        {
          "output_type": "stream",
          "name": "stdout",
          "text": [
            "21\n",
            "63\n",
            "22.06984126984127\n"
          ]
        }
      ]
    }
  ]
}
